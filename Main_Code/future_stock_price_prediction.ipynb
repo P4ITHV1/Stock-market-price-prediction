{
  "nbformat": 4,
  "nbformat_minor": 0,
  "metadata": {
    "colab": {
      "provenance": []
    },
    "kernelspec": {
      "name": "python3",
      "display_name": "Python 3"
    },
    "language_info": {
      "name": "python"
    }
  },
  "cells": [
    {
      "cell_type": "code",
      "source": [
        "!pip install nsepy"
      ],
      "metadata": {
        "id": "d-Rl6kM5CGkK"
      },
      "execution_count": null,
      "outputs": []
    },
    {
      "cell_type": "code",
      "source": [
        "!pip install tensorflow"
      ],
      "metadata": {
        "id": "PQhdVrz-COJw"
      },
      "execution_count": null,
      "outputs": []
    },
    {
      "cell_type": "code",
      "execution_count": 39,
      "metadata": {
        "id": "T-fMBfg3BK-K"
      },
      "outputs": [],
      "source": [
        "from nsepy import get_history\n",
        "from datetime import date\n",
        "import pandas as pd\n",
        "import matplotlib.pyplot as plt\n",
        "import numpy as np\n",
        "from tensorflow import keras\n",
        "from sklearn.preprocessing import MinMaxScaler\n",
        "from tensorflow.keras.models import Sequential\n",
        "from tensorflow.keras.layers import Dense\n",
        "from tensorflow.keras.layers import LSTM\n",
        "import math\n",
        "from sklearn.metrics import mean_squared_error"
      ]
    },
    {
      "cell_type": "code",
      "source": [
        "inp = input(\"type code: \")\n",
        "\n",
        "data = get_history(symbol=inp, start=date(2015,1,1), end=date(2020,1,31))\n",
        "data.to_csv(\"data.csv\")\n",
        "df = pd.read_csv(\"data.csv\")\n",
        "df.head()"
      ],
      "metadata": {
        "colab": {
          "base_uri": "https://localhost:8080/",
          "height": 258
        },
        "id": "FhK9AvF5CZ0h",
        "outputId": "9202be52-4c64-4e17-f9f4-6d933fb0cd87"
      },
      "execution_count": 95,
      "outputs": [
        {
          "name": "stdout",
          "output_type": "stream",
          "text": [
            "type code: HDFC\n"
          ]
        },
        {
          "output_type": "stream",
          "name": "stderr",
          "text": [
            "WARNING:urllib3.connectionpool:Connection pool is full, discarding connection: www1.nseindia.com\n",
            "WARNING:urllib3.connectionpool:Connection pool is full, discarding connection: www1.nseindia.com\n"
          ]
        },
        {
          "output_type": "execute_result",
          "data": {
            "text/plain": [
              "         Date Symbol Series  Prev Close    Open     High      Low     Last  \\\n",
              "0  2015-01-01   HDFC     EQ     1135.90  1130.0  1131.15  1120.10  1125.90   \n",
              "1  2015-01-02   HDFC     EQ     1124.00  1127.3  1176.95  1125.35  1171.05   \n",
              "2  2015-01-05   HDFC     EQ     1171.90  1168.8  1175.00  1150.40  1154.95   \n",
              "3  2015-01-06   HDFC     EQ     1156.40  1148.6  1148.60  1096.10  1098.00   \n",
              "4  2015-01-07   HDFC     EQ     1101.95  1097.5  1114.15  1095.00  1097.65   \n",
              "\n",
              "     Close     VWAP   Volume      Turnover  Trades  Deliverable Volume  \\\n",
              "0  1124.00  1124.23   401576  4.514650e+13   11804              128793   \n",
              "1  1171.90  1159.93  2019816  2.342845e+14   59071             1258847   \n",
              "2  1156.40  1159.24  2219458  2.572880e+14   57749             1414720   \n",
              "3  1101.95  1117.84  2531748  2.830100e+14   81436             1547523   \n",
              "4  1099.25  1105.58  2406880  2.660992e+14  133109             1533304   \n",
              "\n",
              "   %Deliverble  \n",
              "0       0.3207  \n",
              "1       0.6232  \n",
              "2       0.6374  \n",
              "3       0.6112  \n",
              "4       0.6371  "
            ],
            "text/html": [
              "\n",
              "  <div id=\"df-a9425f41-589b-4fd4-9f9a-8398cfcd1ae0\">\n",
              "    <div class=\"colab-df-container\">\n",
              "      <div>\n",
              "<style scoped>\n",
              "    .dataframe tbody tr th:only-of-type {\n",
              "        vertical-align: middle;\n",
              "    }\n",
              "\n",
              "    .dataframe tbody tr th {\n",
              "        vertical-align: top;\n",
              "    }\n",
              "\n",
              "    .dataframe thead th {\n",
              "        text-align: right;\n",
              "    }\n",
              "</style>\n",
              "<table border=\"1\" class=\"dataframe\">\n",
              "  <thead>\n",
              "    <tr style=\"text-align: right;\">\n",
              "      <th></th>\n",
              "      <th>Date</th>\n",
              "      <th>Symbol</th>\n",
              "      <th>Series</th>\n",
              "      <th>Prev Close</th>\n",
              "      <th>Open</th>\n",
              "      <th>High</th>\n",
              "      <th>Low</th>\n",
              "      <th>Last</th>\n",
              "      <th>Close</th>\n",
              "      <th>VWAP</th>\n",
              "      <th>Volume</th>\n",
              "      <th>Turnover</th>\n",
              "      <th>Trades</th>\n",
              "      <th>Deliverable Volume</th>\n",
              "      <th>%Deliverble</th>\n",
              "    </tr>\n",
              "  </thead>\n",
              "  <tbody>\n",
              "    <tr>\n",
              "      <th>0</th>\n",
              "      <td>2015-01-01</td>\n",
              "      <td>HDFC</td>\n",
              "      <td>EQ</td>\n",
              "      <td>1135.90</td>\n",
              "      <td>1130.0</td>\n",
              "      <td>1131.15</td>\n",
              "      <td>1120.10</td>\n",
              "      <td>1125.90</td>\n",
              "      <td>1124.00</td>\n",
              "      <td>1124.23</td>\n",
              "      <td>401576</td>\n",
              "      <td>4.514650e+13</td>\n",
              "      <td>11804</td>\n",
              "      <td>128793</td>\n",
              "      <td>0.3207</td>\n",
              "    </tr>\n",
              "    <tr>\n",
              "      <th>1</th>\n",
              "      <td>2015-01-02</td>\n",
              "      <td>HDFC</td>\n",
              "      <td>EQ</td>\n",
              "      <td>1124.00</td>\n",
              "      <td>1127.3</td>\n",
              "      <td>1176.95</td>\n",
              "      <td>1125.35</td>\n",
              "      <td>1171.05</td>\n",
              "      <td>1171.90</td>\n",
              "      <td>1159.93</td>\n",
              "      <td>2019816</td>\n",
              "      <td>2.342845e+14</td>\n",
              "      <td>59071</td>\n",
              "      <td>1258847</td>\n",
              "      <td>0.6232</td>\n",
              "    </tr>\n",
              "    <tr>\n",
              "      <th>2</th>\n",
              "      <td>2015-01-05</td>\n",
              "      <td>HDFC</td>\n",
              "      <td>EQ</td>\n",
              "      <td>1171.90</td>\n",
              "      <td>1168.8</td>\n",
              "      <td>1175.00</td>\n",
              "      <td>1150.40</td>\n",
              "      <td>1154.95</td>\n",
              "      <td>1156.40</td>\n",
              "      <td>1159.24</td>\n",
              "      <td>2219458</td>\n",
              "      <td>2.572880e+14</td>\n",
              "      <td>57749</td>\n",
              "      <td>1414720</td>\n",
              "      <td>0.6374</td>\n",
              "    </tr>\n",
              "    <tr>\n",
              "      <th>3</th>\n",
              "      <td>2015-01-06</td>\n",
              "      <td>HDFC</td>\n",
              "      <td>EQ</td>\n",
              "      <td>1156.40</td>\n",
              "      <td>1148.6</td>\n",
              "      <td>1148.60</td>\n",
              "      <td>1096.10</td>\n",
              "      <td>1098.00</td>\n",
              "      <td>1101.95</td>\n",
              "      <td>1117.84</td>\n",
              "      <td>2531748</td>\n",
              "      <td>2.830100e+14</td>\n",
              "      <td>81436</td>\n",
              "      <td>1547523</td>\n",
              "      <td>0.6112</td>\n",
              "    </tr>\n",
              "    <tr>\n",
              "      <th>4</th>\n",
              "      <td>2015-01-07</td>\n",
              "      <td>HDFC</td>\n",
              "      <td>EQ</td>\n",
              "      <td>1101.95</td>\n",
              "      <td>1097.5</td>\n",
              "      <td>1114.15</td>\n",
              "      <td>1095.00</td>\n",
              "      <td>1097.65</td>\n",
              "      <td>1099.25</td>\n",
              "      <td>1105.58</td>\n",
              "      <td>2406880</td>\n",
              "      <td>2.660992e+14</td>\n",
              "      <td>133109</td>\n",
              "      <td>1533304</td>\n",
              "      <td>0.6371</td>\n",
              "    </tr>\n",
              "  </tbody>\n",
              "</table>\n",
              "</div>\n",
              "      <button class=\"colab-df-convert\" onclick=\"convertToInteractive('df-a9425f41-589b-4fd4-9f9a-8398cfcd1ae0')\"\n",
              "              title=\"Convert this dataframe to an interactive table.\"\n",
              "              style=\"display:none;\">\n",
              "        \n",
              "  <svg xmlns=\"http://www.w3.org/2000/svg\" height=\"24px\"viewBox=\"0 0 24 24\"\n",
              "       width=\"24px\">\n",
              "    <path d=\"M0 0h24v24H0V0z\" fill=\"none\"/>\n",
              "    <path d=\"M18.56 5.44l.94 2.06.94-2.06 2.06-.94-2.06-.94-.94-2.06-.94 2.06-2.06.94zm-11 1L8.5 8.5l.94-2.06 2.06-.94-2.06-.94L8.5 2.5l-.94 2.06-2.06.94zm10 10l.94 2.06.94-2.06 2.06-.94-2.06-.94-.94-2.06-.94 2.06-2.06.94z\"/><path d=\"M17.41 7.96l-1.37-1.37c-.4-.4-.92-.59-1.43-.59-.52 0-1.04.2-1.43.59L10.3 9.45l-7.72 7.72c-.78.78-.78 2.05 0 2.83L4 21.41c.39.39.9.59 1.41.59.51 0 1.02-.2 1.41-.59l7.78-7.78 2.81-2.81c.8-.78.8-2.07 0-2.86zM5.41 20L4 18.59l7.72-7.72 1.47 1.35L5.41 20z\"/>\n",
              "  </svg>\n",
              "      </button>\n",
              "      \n",
              "  <style>\n",
              "    .colab-df-container {\n",
              "      display:flex;\n",
              "      flex-wrap:wrap;\n",
              "      gap: 12px;\n",
              "    }\n",
              "\n",
              "    .colab-df-convert {\n",
              "      background-color: #E8F0FE;\n",
              "      border: none;\n",
              "      border-radius: 50%;\n",
              "      cursor: pointer;\n",
              "      display: none;\n",
              "      fill: #1967D2;\n",
              "      height: 32px;\n",
              "      padding: 0 0 0 0;\n",
              "      width: 32px;\n",
              "    }\n",
              "\n",
              "    .colab-df-convert:hover {\n",
              "      background-color: #E2EBFA;\n",
              "      box-shadow: 0px 1px 2px rgba(60, 64, 67, 0.3), 0px 1px 3px 1px rgba(60, 64, 67, 0.15);\n",
              "      fill: #174EA6;\n",
              "    }\n",
              "\n",
              "    [theme=dark] .colab-df-convert {\n",
              "      background-color: #3B4455;\n",
              "      fill: #D2E3FC;\n",
              "    }\n",
              "\n",
              "    [theme=dark] .colab-df-convert:hover {\n",
              "      background-color: #434B5C;\n",
              "      box-shadow: 0px 1px 3px 1px rgba(0, 0, 0, 0.15);\n",
              "      filter: drop-shadow(0px 1px 2px rgba(0, 0, 0, 0.3));\n",
              "      fill: #FFFFFF;\n",
              "    }\n",
              "  </style>\n",
              "\n",
              "      <script>\n",
              "        const buttonEl =\n",
              "          document.querySelector('#df-a9425f41-589b-4fd4-9f9a-8398cfcd1ae0 button.colab-df-convert');\n",
              "        buttonEl.style.display =\n",
              "          google.colab.kernel.accessAllowed ? 'block' : 'none';\n",
              "\n",
              "        async function convertToInteractive(key) {\n",
              "          const element = document.querySelector('#df-a9425f41-589b-4fd4-9f9a-8398cfcd1ae0');\n",
              "          const dataTable =\n",
              "            await google.colab.kernel.invokeFunction('convertToInteractive',\n",
              "                                                     [key], {});\n",
              "          if (!dataTable) return;\n",
              "\n",
              "          const docLinkHtml = 'Like what you see? Visit the ' +\n",
              "            '<a target=\"_blank\" href=https://colab.research.google.com/notebooks/data_table.ipynb>data table notebook</a>'\n",
              "            + ' to learn more about interactive tables.';\n",
              "          element.innerHTML = '';\n",
              "          dataTable['output_type'] = 'display_data';\n",
              "          await google.colab.output.renderOutput(dataTable, element);\n",
              "          const docLink = document.createElement('div');\n",
              "          docLink.innerHTML = docLinkHtml;\n",
              "          element.appendChild(docLink);\n",
              "        }\n",
              "      </script>\n",
              "    </div>\n",
              "  </div>\n",
              "  "
            ]
          },
          "metadata": {},
          "execution_count": 95
        }
      ]
    },
    {
      "cell_type": "code",
      "source": [
        "df1 = df.reset_index()['Close']\n",
        "plt.plot(df1)"
      ],
      "metadata": {
        "colab": {
          "base_uri": "https://localhost:8080/",
          "height": 282
        },
        "id": "l66zUzeVCl4B",
        "outputId": "3f214c4a-4d5d-4b95-e119-68838db878d0"
      },
      "execution_count": 96,
      "outputs": [
        {
          "output_type": "execute_result",
          "data": {
            "text/plain": [
              "[<matplotlib.lines.Line2D at 0x7f55e4ac3150>]"
            ]
          },
          "metadata": {},
          "execution_count": 96
        },
        {
          "output_type": "display_data",
          "data": {
            "text/plain": [
              "<Figure size 432x288 with 1 Axes>"
            ],
            "image/png": "[encoded data removed]"
          },
          "metadata": {
            "needs_background": "light"
          }
        }
      ]
    },
    {
      "cell_type": "code",
      "source": [],
      "metadata": {
        "id": "_2JuPuyINtiG"
      },
      "execution_count": null,
      "outputs": []
    },
    {
      "cell_type": "code",
      "source": [
        "scaler = MinMaxScaler(feature_range=(0,1))\n",
        "df1 = scaler.fit_transform(np.array(df1).reshape(-1,1))"
      ],
      "metadata": {
        "id": "OZ8Qpco7Cof2"
      },
      "execution_count": 70,
      "outputs": []
    },
    {
      "cell_type": "code",
      "source": [
        "training_size = int(len(df1)*0.65)\n",
        "test_size = len(df1)-training_size\n",
        "train_data,test_data = df1[0:training_size,:],df1[training_size:len(df1),:1]"
      ],
      "metadata": {
        "id": "gIMOUuL3DDSI"
      },
      "execution_count": 71,
      "outputs": []
    },
    {
      "cell_type": "code",
      "source": [
        "def create_dataset(dataset,time_stamp=1):\n",
        "    dataX,dataY=[],[]\n",
        "    for i in range(len(dataset)-time_stamp-1):\n",
        "        a = dataset[i:(i+time_stamp),0]\n",
        "        dataX.append(a)\n",
        "        dataY.append(dataset[i+time_stamp, 0])\n",
        "    return np.array(dataX) , np.array(dataY)"
      ],
      "metadata": {
        "id": "WPeANoHNDGWZ"
      },
      "execution_count": 72,
      "outputs": []
    },
    {
      "cell_type": "code",
      "source": [
        "time_step = 100\n",
        "X_train , y_train = create_dataset(train_data,time_step)\n",
        "X_test , y_test = create_dataset(test_data , time_step)"
      ],
      "metadata": {
        "id": "0NdkB1NXDKKu"
      },
      "execution_count": 73,
      "outputs": []
    },
    {
      "cell_type": "code",
      "source": [
        "X_train = X_train.reshape(X_train.shape[0],X_train.shape[1],1)\n",
        "X_test = X_test.reshape(X_test.shape[0] , X_test.shape[1], 1)"
      ],
      "metadata": {
        "id": "_DF1qHBwDNLr"
      },
      "execution_count": 74,
      "outputs": []
    },
    {
      "cell_type": "code",
      "source": [
        "model=Sequential()\n",
        "model.add(LSTM(50,return_sequences=True,input_shape=(100,1)))\n",
        "model.add(LSTM(50,return_sequences=True))\n",
        "model.add(LSTM(50))\n",
        "model.add(Dense(1))\n",
        "model.compile(loss='mean_squared_error',optimizer='adam')"
      ],
      "metadata": {
        "id": "oOlBI_tBDcZ0"
      },
      "execution_count": 75,
      "outputs": []
    },
    {
      "cell_type": "code",
      "source": [
        "model.fit(X_train,y_train,validation_data=(X_test,y_test),epochs=100,batch_size=64,verbose=1)"
      ],
      "metadata": {
        "colab": {
          "base_uri": "https://localhost:8080/"
        },
        "id": "-QvPXlBUF0Hy",
        "outputId": "1321651d-2303-45d0-c26f-8619f5f9863a"
      },
      "execution_count": 76,
      "outputs": [
        {
          "output_type": "stream",
          "name": "stdout",
          "text": [
            "Epoch 1/100\n",
            "12/12 [==============================] - 8s 276ms/step - loss: 0.0320 - val_loss: 0.0543\n",
            "Epoch 2/100\n",
            "12/12 [==============================] - 2s 175ms/step - loss: 0.0061 - val_loss: 0.0039\n",
            "Epoch 3/100\n",
            "12/12 [==============================] - 2s 173ms/step - loss: 0.0025 - val_loss: 0.0036\n",
            "Epoch 4/100\n",
            "12/12 [==============================] - 2s 174ms/step - loss: 0.0016 - val_loss: 0.0038\n",
            "Epoch 5/100\n",
            "12/12 [==============================] - 2s 176ms/step - loss: 0.0015 - val_loss: 0.0047\n",
            "Epoch 6/100\n",
            "12/12 [==============================] - 2s 173ms/step - loss: 0.0014 - val_loss: 0.0038\n",
            "Epoch 7/100\n",
            "12/12 [==============================] - 2s 173ms/step - loss: 0.0013 - val_loss: 0.0032\n",
            "Epoch 8/100\n",
            "12/12 [==============================] - 2s 175ms/step - loss: 0.0013 - val_loss: 0.0036\n",
            "Epoch 9/100\n",
            "12/12 [==============================] - 2s 174ms/step - loss: 0.0013 - val_loss: 0.0031\n",
            "Epoch 10/100\n",
            "12/12 [==============================] - 2s 174ms/step - loss: 0.0013 - val_loss: 0.0030\n",
            "Epoch 11/100\n",
            "12/12 [==============================] - 2s 174ms/step - loss: 0.0013 - val_loss: 0.0030\n",
            "Epoch 12/100\n",
            "12/12 [==============================] - 2s 174ms/step - loss: 0.0013 - val_loss: 0.0035\n",
            "Epoch 13/100\n",
            "12/12 [==============================] - 2s 174ms/step - loss: 0.0013 - val_loss: 0.0038\n",
            "Epoch 14/100\n",
            "12/12 [==============================] - 2s 173ms/step - loss: 0.0012 - val_loss: 0.0030\n",
            "Epoch 15/100\n",
            "12/12 [==============================] - 2s 176ms/step - loss: 0.0012 - val_loss: 0.0026\n",
            "Epoch 16/100\n",
            "12/12 [==============================] - 2s 174ms/step - loss: 0.0012 - val_loss: 0.0030\n",
            "Epoch 17/100\n",
            "12/12 [==============================] - 2s 175ms/step - loss: 0.0012 - val_loss: 0.0031\n",
            "Epoch 18/100\n",
            "12/12 [==============================] - 2s 175ms/step - loss: 0.0012 - val_loss: 0.0025\n",
            "Epoch 19/100\n",
            "12/12 [==============================] - 2s 176ms/step - loss: 0.0012 - val_loss: 0.0025\n",
            "Epoch 20/100\n",
            "12/12 [==============================] - 2s 177ms/step - loss: 0.0012 - val_loss: 0.0042\n",
            "Epoch 21/100\n",
            "12/12 [==============================] - 2s 176ms/step - loss: 0.0012 - val_loss: 0.0040\n",
            "Epoch 22/100\n",
            "12/12 [==============================] - 2s 176ms/step - loss: 0.0012 - val_loss: 0.0035\n",
            "Epoch 23/100\n",
            "12/12 [==============================] - 2s 175ms/step - loss: 0.0011 - val_loss: 0.0023\n",
            "Epoch 24/100\n",
            "12/12 [==============================] - 2s 174ms/step - loss: 0.0012 - val_loss: 0.0021\n",
            "Epoch 25/100\n",
            "12/12 [==============================] - 2s 176ms/step - loss: 0.0011 - val_loss: 0.0022\n",
            "Epoch 26/100\n",
            "12/12 [==============================] - 2s 174ms/step - loss: 0.0011 - val_loss: 0.0021\n",
            "Epoch 27/100\n",
            "12/12 [==============================] - 2s 176ms/step - loss: 0.0011 - val_loss: 0.0020\n",
            "Epoch 28/100\n",
            "12/12 [==============================] - 2s 174ms/step - loss: 0.0011 - val_loss: 0.0019\n",
            "Epoch 29/100\n",
            "12/12 [==============================] - 2s 174ms/step - loss: 0.0011 - val_loss: 0.0033\n",
            "Epoch 30/100\n",
            "12/12 [==============================] - 2s 177ms/step - loss: 0.0010 - val_loss: 0.0018\n",
            "Epoch 31/100\n",
            "12/12 [==============================] - 2s 177ms/step - loss: 0.0010 - val_loss: 0.0027\n",
            "Epoch 32/100\n",
            "12/12 [==============================] - 2s 175ms/step - loss: 9.9692e-04 - val_loss: 0.0027\n",
            "Epoch 33/100\n",
            "12/12 [==============================] - 2s 175ms/step - loss: 9.9677e-04 - val_loss: 0.0034\n",
            "Epoch 34/100\n",
            "12/12 [==============================] - 2s 176ms/step - loss: 9.8495e-04 - val_loss: 0.0017\n",
            "Epoch 35/100\n",
            "12/12 [==============================] - 2s 175ms/step - loss: 0.0011 - val_loss: 0.0021\n",
            "Epoch 36/100\n",
            "12/12 [==============================] - 2s 176ms/step - loss: 9.9765e-04 - val_loss: 0.0020\n",
            "Epoch 37/100\n",
            "12/12 [==============================] - 2s 178ms/step - loss: 9.3732e-04 - val_loss: 0.0027\n",
            "Epoch 38/100\n",
            "12/12 [==============================] - 2s 176ms/step - loss: 9.5398e-04 - val_loss: 0.0019\n",
            "Epoch 39/100\n",
            "12/12 [==============================] - 2s 176ms/step - loss: 8.9470e-04 - val_loss: 0.0023\n",
            "Epoch 40/100\n",
            "12/12 [==============================] - 2s 176ms/step - loss: 8.7305e-04 - val_loss: 0.0020\n",
            "Epoch 41/100\n",
            "12/12 [==============================] - 2s 175ms/step - loss: 8.6038e-04 - val_loss: 0.0024\n",
            "Epoch 42/100\n",
            "12/12 [==============================] - 2s 176ms/step - loss: 8.6529e-04 - val_loss: 0.0025\n",
            "Epoch 43/100\n",
            "12/12 [==============================] - 2s 175ms/step - loss: 9.4958e-04 - val_loss: 0.0018\n",
            "Epoch 44/100\n",
            "12/12 [==============================] - 2s 177ms/step - loss: 8.5228e-04 - val_loss: 0.0034\n",
            "Epoch 45/100\n",
            "12/12 [==============================] - 2s 176ms/step - loss: 8.2851e-04 - val_loss: 0.0016\n",
            "Epoch 46/100\n",
            "12/12 [==============================] - 2s 177ms/step - loss: 8.0386e-04 - val_loss: 0.0028\n",
            "Epoch 47/100\n",
            "12/12 [==============================] - 2s 178ms/step - loss: 8.3150e-04 - val_loss: 0.0018\n",
            "Epoch 48/100\n",
            "12/12 [==============================] - 2s 176ms/step - loss: 7.7324e-04 - val_loss: 0.0021\n",
            "Epoch 49/100\n",
            "12/12 [==============================] - 2s 175ms/step - loss: 7.4764e-04 - val_loss: 0.0015\n",
            "Epoch 50/100\n",
            "12/12 [==============================] - 2s 176ms/step - loss: 7.8217e-04 - val_loss: 0.0031\n",
            "Epoch 51/100\n",
            "12/12 [==============================] - 2s 176ms/step - loss: 7.4944e-04 - val_loss: 0.0015\n",
            "Epoch 52/100\n",
            "12/12 [==============================] - 2s 176ms/step - loss: 7.6159e-04 - val_loss: 0.0031\n",
            "Epoch 53/100\n",
            "12/12 [==============================] - 2s 176ms/step - loss: 7.4304e-04 - val_loss: 0.0016\n",
            "Epoch 54/100\n",
            "12/12 [==============================] - 2s 177ms/step - loss: 7.3930e-04 - val_loss: 0.0045\n",
            "Epoch 55/100\n",
            "12/12 [==============================] - 2s 175ms/step - loss: 7.9882e-04 - val_loss: 0.0015\n",
            "Epoch 56/100\n",
            "12/12 [==============================] - 2s 176ms/step - loss: 7.6820e-04 - val_loss: 0.0018\n",
            "Epoch 57/100\n",
            "12/12 [==============================] - 2s 175ms/step - loss: 7.9132e-04 - val_loss: 0.0019\n",
            "Epoch 58/100\n",
            "12/12 [==============================] - 2s 174ms/step - loss: 6.5495e-04 - val_loss: 0.0014\n",
            "Epoch 59/100\n",
            "12/12 [==============================] - 2s 178ms/step - loss: 6.6607e-04 - val_loss: 0.0018\n",
            "Epoch 60/100\n",
            "12/12 [==============================] - 2s 177ms/step - loss: 6.2789e-04 - val_loss: 0.0014\n",
            "Epoch 61/100\n",
            "12/12 [==============================] - 2s 175ms/step - loss: 6.5686e-04 - val_loss: 0.0031\n",
            "Epoch 62/100\n",
            "12/12 [==============================] - 2s 176ms/step - loss: 7.1180e-04 - val_loss: 0.0017\n",
            "Epoch 63/100\n",
            "12/12 [==============================] - 2s 173ms/step - loss: 8.5155e-04 - val_loss: 0.0019\n",
            "Epoch 64/100\n",
            "12/12 [==============================] - 2s 174ms/step - loss: 6.0732e-04 - val_loss: 0.0022\n",
            "Epoch 65/100\n",
            "12/12 [==============================] - 2s 174ms/step - loss: 6.0110e-04 - val_loss: 0.0017\n",
            "Epoch 66/100\n",
            "12/12 [==============================] - 2s 177ms/step - loss: 5.8274e-04 - val_loss: 0.0018\n",
            "Epoch 67/100\n",
            "12/12 [==============================] - 2s 175ms/step - loss: 5.6563e-04 - val_loss: 0.0016\n",
            "Epoch 68/100\n",
            "12/12 [==============================] - 2s 175ms/step - loss: 5.6856e-04 - val_loss: 0.0016\n",
            "Epoch 69/100\n",
            "12/12 [==============================] - 2s 179ms/step - loss: 5.7451e-04 - val_loss: 0.0015\n",
            "Epoch 70/100\n",
            "12/12 [==============================] - 2s 180ms/step - loss: 5.5633e-04 - val_loss: 0.0013\n",
            "Epoch 71/100\n",
            "12/12 [==============================] - 2s 182ms/step - loss: 5.6428e-04 - val_loss: 0.0012\n",
            "Epoch 72/100\n",
            "12/12 [==============================] - 2s 179ms/step - loss: 6.0388e-04 - val_loss: 0.0023\n",
            "Epoch 73/100\n",
            "12/12 [==============================] - 2s 176ms/step - loss: 6.0400e-04 - val_loss: 0.0012\n",
            "Epoch 74/100\n",
            "12/12 [==============================] - 2s 180ms/step - loss: 5.3292e-04 - val_loss: 0.0012\n",
            "Epoch 75/100\n",
            "12/12 [==============================] - 2s 177ms/step - loss: 5.1855e-04 - val_loss: 0.0016\n",
            "Epoch 76/100\n",
            "12/12 [==============================] - 2s 177ms/step - loss: 5.1446e-04 - val_loss: 0.0021\n",
            "Epoch 77/100\n",
            "12/12 [==============================] - 2s 178ms/step - loss: 5.2634e-04 - val_loss: 0.0012\n",
            "Epoch 78/100\n",
            "12/12 [==============================] - 3s 215ms/step - loss: 5.2412e-04 - val_loss: 0.0016\n",
            "Epoch 79/100\n",
            "12/12 [==============================] - 3s 218ms/step - loss: 5.2624e-04 - val_loss: 0.0015\n",
            "Epoch 80/100\n",
            "12/12 [==============================] - 2s 178ms/step - loss: 5.1863e-04 - val_loss: 9.9731e-04\n",
            "Epoch 81/100\n",
            "12/12 [==============================] - 2s 177ms/step - loss: 5.5684e-04 - val_loss: 0.0030\n",
            "Epoch 82/100\n",
            "12/12 [==============================] - 2s 179ms/step - loss: 5.3632e-04 - val_loss: 9.7048e-04\n",
            "Epoch 83/100\n",
            "12/12 [==============================] - 2s 180ms/step - loss: 4.5996e-04 - val_loss: 0.0012\n",
            "Epoch 84/100\n",
            "12/12 [==============================] - 2s 180ms/step - loss: 4.5650e-04 - val_loss: 0.0014\n",
            "Epoch 85/100\n",
            "12/12 [==============================] - 2s 180ms/step - loss: 5.0144e-04 - val_loss: 0.0024\n",
            "Epoch 86/100\n",
            "12/12 [==============================] - 2s 181ms/step - loss: 4.9082e-04 - val_loss: 9.4065e-04\n",
            "Epoch 87/100\n",
            "12/12 [==============================] - 2s 180ms/step - loss: 4.8064e-04 - val_loss: 0.0023\n",
            "Epoch 88/100\n",
            "12/12 [==============================] - 2s 178ms/step - loss: 4.9791e-04 - val_loss: 9.6150e-04\n",
            "Epoch 89/100\n",
            "12/12 [==============================] - 2s 180ms/step - loss: 5.1164e-04 - val_loss: 0.0023\n",
            "Epoch 90/100\n",
            "12/12 [==============================] - 2s 178ms/step - loss: 4.9134e-04 - val_loss: 9.6093e-04\n",
            "Epoch 91/100\n",
            "12/12 [==============================] - 2s 179ms/step - loss: 4.6926e-04 - val_loss: 8.8810e-04\n",
            "Epoch 92/100\n",
            "12/12 [==============================] - 2s 177ms/step - loss: 4.1955e-04 - val_loss: 0.0018\n",
            "Epoch 93/100\n",
            "12/12 [==============================] - 2s 179ms/step - loss: 4.0925e-04 - val_loss: 0.0011\n",
            "Epoch 94/100\n",
            "12/12 [==============================] - 2s 183ms/step - loss: 3.9955e-04 - val_loss: 0.0015\n",
            "Epoch 95/100\n",
            "12/12 [==============================] - 2s 179ms/step - loss: 4.0759e-04 - val_loss: 8.6194e-04\n",
            "Epoch 96/100\n",
            "12/12 [==============================] - 2s 180ms/step - loss: 4.4139e-04 - val_loss: 0.0022\n",
            "Epoch 97/100\n",
            "12/12 [==============================] - 2s 179ms/step - loss: 3.8290e-04 - val_loss: 7.7838e-04\n",
            "Epoch 98/100\n",
            "12/12 [==============================] - 2s 179ms/step - loss: 3.9857e-04 - val_loss: 0.0016\n",
            "Epoch 99/100\n",
            "12/12 [==============================] - 2s 178ms/step - loss: 3.8653e-04 - val_loss: 0.0010\n",
            "Epoch 100/100\n",
            "12/12 [==============================] - 2s 177ms/step - loss: 3.4509e-04 - val_loss: 9.6210e-04\n"
          ]
        },
        {
          "output_type": "execute_result",
          "data": {
            "text/plain": [
              "<keras.callbacks.History at 0x7f55f644b950>"
            ]
          },
          "metadata": {},
          "execution_count": 76
        }
      ]
    },
    {
      "cell_type": "code",
      "source": [
        "train_predict=model.predict(X_train)\n",
        "test_predict=model.predict(X_test)"
      ],
      "metadata": {
        "colab": {
          "base_uri": "https://localhost:8080/"
        },
        "id": "2mk4g67CGzVg",
        "outputId": "d1687f34-e777-4b0a-fc5e-54e50c5e32e3"
      },
      "execution_count": 77,
      "outputs": [
        {
          "output_type": "stream",
          "name": "stdout",
          "text": [
            "23/23 [==============================] - 2s 31ms/step\n",
            "11/11 [==============================] - 0s 32ms/step\n"
          ]
        }
      ]
    },
    {
      "cell_type": "code",
      "source": [
        "train_predict=scaler.inverse_transform(train_predict)\n",
        "test_predict=scaler.inverse_transform(test_predict)"
      ],
      "metadata": {
        "id": "z9xR0w3ZG3CR"
      },
      "execution_count": 78,
      "outputs": []
    },
    {
      "cell_type": "code",
      "source": [
        "math.sqrt(mean_squared_error(y_train,train_predict))\n",
        "math.sqrt(mean_squared_error(y_test,test_predict))"
      ],
      "metadata": {
        "colab": {
          "base_uri": "https://localhost:8080/"
        },
        "id": "9Sxo648lG8LP",
        "outputId": "2a212e98-a9d3-4bea-b259-1a38eb2f7799"
      },
      "execution_count": 79,
      "outputs": [
        {
          "output_type": "execute_result",
          "data": {
            "text/plain": [
              "2048.680795979048"
            ]
          },
          "metadata": {},
          "execution_count": 79
        }
      ]
    },
    {
      "cell_type": "code",
      "source": [
        "look_back=100\n",
        "trainPredictPlot = np.empty_like(df1)\n",
        "trainPredictPlot[:, :] = np.nan\n",
        "trainPredictPlot[look_back:len(train_predict)+look_back, :] = train_predict\n",
        "testPredictPlot = np.empty_like(df1)\n",
        "testPredictPlot[:, :] = np.nan\n",
        "testPredictPlot[len(train_predict)+(look_back*2)+1:len(df1)-1, :] = test_predict"
      ],
      "metadata": {
        "id": "iHmvXJlMHUng"
      },
      "execution_count": 80,
      "outputs": []
    },
    {
      "cell_type": "code",
      "source": [
        "le = len(test_data) - 100\n",
        "x_input=test_data[le:].reshape(1,-1)"
      ],
      "metadata": {
        "id": "BPAd0dJ8Hg7X"
      },
      "execution_count": 82,
      "outputs": []
    },
    {
      "cell_type": "code",
      "source": [
        "temp_input=list(x_input)\n",
        "temp_input=temp_input[0].tolist()"
      ],
      "metadata": {
        "id": "imFONHhoHh-T"
      },
      "execution_count": 83,
      "outputs": []
    },
    {
      "cell_type": "code",
      "source": [
        "lst_output=[]\n",
        "n_steps=100\n",
        "i=0\n",
        "while(i<30):\n",
        "    \n",
        "    if(len(temp_input)>100):\n",
        "        x_input=np.array(temp_input[1:])\n",
        "        x_input=x_input.reshape(1,-1)\n",
        "        x_input = x_input.reshape((1, n_steps, 1))\n",
        "        yhat = model.predict(x_input, verbose=0)\n",
        "        temp_input.extend(yhat[0].tolist())\n",
        "        temp_input=temp_input[1:]\n",
        "        lst_output.extend(yhat.tolist())\n",
        "        i=i+1\n",
        "    else:\n",
        "        x_input = x_input.reshape((1, n_steps,1))\n",
        "        yhat = model.predict(x_input, verbose=0)\n",
        "        temp_input.extend(yhat[0].tolist())\n",
        "        lst_output.extend(yhat.tolist())\n",
        "        i=i+1"
      ],
      "metadata": {
        "id": "xWVSm5uVH8D-"
      },
      "execution_count": 84,
      "outputs": []
    },
    {
      "cell_type": "code",
      "source": [
        "day_new=np.arange(1,101)\n",
        "day_pred=np.arange(101,131)"
      ],
      "metadata": {
        "id": "PFllpIcrITBP"
      },
      "execution_count": 85,
      "outputs": []
    },
    {
      "cell_type": "code",
      "source": [
        "fin = len(df1) - 100\n",
        "plt.plot(day_new,scaler.inverse_transform(df1[fin:]))\n",
        "plt.plot(day_pred,scaler.inverse_transform(lst_output))"
      ],
      "metadata": {
        "colab": {
          "base_uri": "https://localhost:8080/",
          "height": 282
        },
        "id": "BmuDFE6eKHkK",
        "outputId": "a7dde6fe-989a-4057-d10b-2f83618d0dc2"
      },
      "execution_count": 86,
      "outputs": [
        {
          "output_type": "execute_result",
          "data": {
            "text/plain": [
              "[<matplotlib.lines.Line2D at 0x7f55f4aba150>]"
            ]
          },
          "metadata": {},
          "execution_count": 86
        },
        {
          "output_type": "display_data",
          "data": {
            "text/plain": [
              "<Figure size 432x288 with 1 Axes>"
            ],
            "image/png": "[encoded data removed]"
          },
          "metadata": {
            "needs_background": "light"
          }
        }
      ]
    },
    {
      "cell_type": "code",
      "source": [
        "#testing \n",
        "inp = input(\"type code: \")\n",
        "data_tester = get_history(symbol=inp, start=date(2020,1,1), end=date(2020,3,1))\n",
        "data_tester.to_csv(\"data.csv\")\n",
        "df_tester = pd.read_csv(\"data.csv\")"
      ],
      "metadata": {
        "colab": {
          "base_uri": "https://localhost:8080/"
        },
        "id": "_BYsrd4aML8W",
        "outputId": "a989dfd2-5cf0-48e8-cb94-91430fe1aef2"
      },
      "execution_count": 92,
      "outputs": [
        {
          "name": "stdout",
          "output_type": "stream",
          "text": [
            "type code: HDFC\n"
          ]
        }
      ]
    },
    {
      "cell_type": "code",
      "source": [
        "df1_tester=df_tester.reset_index()['Close']\n",
        "plt.plot(df1_tester)"
      ],
      "metadata": {
        "colab": {
          "base_uri": "https://localhost:8080/",
          "height": 282
        },
        "id": "OXsX2eU7ND81",
        "outputId": "b7abd6c8-385c-4f2e-bb10-339426475360"
      },
      "execution_count": 93,
      "outputs": [
        {
          "output_type": "execute_result",
          "data": {
            "text/plain": [
              "[<matplotlib.lines.Line2D at 0x7f55f6ca3d50>]"
            ]
          },
          "metadata": {},
          "execution_count": 93
        },
        {
          "output_type": "display_data",
          "data": {
            "text/plain": [
              "<Figure size 432x288 with 1 Axes>"
            ],
            "image/png": "[encoded data removed]"
          },
          "metadata": {
            "needs_background": "light"
          }
        }
      ]
    },
    {
      "cell_type": "code",
      "source": [],
      "metadata": {
        "id": "MH4AWFsTNI5n"
      },
      "execution_count": null,
      "outputs": []
    }
  ]
}