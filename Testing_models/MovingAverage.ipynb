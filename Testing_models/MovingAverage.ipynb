{
  "nbformat": 4,
  "nbformat_minor": 0,
  "metadata": {
    "colab": {
      "provenance": []
    },
    "kernelspec": {
      "name": "python3",
      "display_name": "Python 3"
    },
    "language_info": {
      "name": "python"
    }
  },
  "cells": [
    {
      "cell_type": "code",
      "source": [
        "!pip install nsepy"
      ],
      "metadata": {
        "id": "jbdNmZ8purm6"
      },
      "execution_count": null,
      "outputs": []
    },
    {
      "cell_type": "code",
      "execution_count": 3,
      "metadata": {
        "id": "gka-ClxuudHB"
      },
      "outputs": [],
      "source": [
        "from nsepy import get_history\n",
        "from datetime import date\n",
        "import pandas as pd\n",
        "import matplotlib.pyplot as plt\n",
        "import numpy as np"
      ]
    },
    {
      "cell_type": "code",
      "source": [
        "inp = input(\"type code: \")\n",
        "\n",
        "data = get_history(symbol=inp, start=date(2015,1,1), end=date(2020,1,31))\n",
        "data.to_csv(\"data.csv\")\n",
        "df = pd.read_csv(\"data.csv\")\n",
        "df.head()"
      ],
      "metadata": {
        "colab": {
          "base_uri": "https://localhost:8080/",
          "height": 385
        },
        "id": "uC0hmzCqu00X",
        "outputId": "7b6b693d-f2d8-48e9-dd4f-210844863ce3"
      },
      "execution_count": 14,
      "outputs": [
        {
          "name": "stdout",
          "output_type": "stream",
          "text": [
            "type code: HDFC\n"
          ]
        },
        {
          "output_type": "stream",
          "name": "stderr",
          "text": [
            "WARNING:urllib3.connectionpool:Connection pool is full, discarding connection: www1.nseindia.com\n",
            "WARNING:urllib3.connectionpool:Connection pool is full, discarding connection: www1.nseindia.com\n",
            "WARNING:urllib3.connectionpool:Connection pool is full, discarding connection: www1.nseindia.com\n",
            "WARNING:urllib3.connectionpool:Connection pool is full, discarding connection: www1.nseindia.com\n",
            "WARNING:urllib3.connectionpool:Connection pool is full, discarding connection: www1.nseindia.com\n",
            "WARNING:urllib3.connectionpool:Connection pool is full, discarding connection: www1.nseindia.com\n",
            "WARNING:urllib3.connectionpool:Connection pool is full, discarding connection: www1.nseindia.com\n",
            "WARNING:urllib3.connectionpool:Connection pool is full, discarding connection: www1.nseindia.com\n",
            "WARNING:urllib3.connectionpool:Connection pool is full, discarding connection: www1.nseindia.com\n"
          ]
        },
        {
          "output_type": "execute_result",
          "data": {
            "text/plain": [
              "         Date Symbol Series  Prev Close    Open     High      Low     Last  \\\n",
              "0  2015-01-01   HDFC     EQ     1135.90  1130.0  1131.15  1120.10  1125.90   \n",
              "1  2015-01-02   HDFC     EQ     1124.00  1127.3  1176.95  1125.35  1171.05   \n",
              "2  2015-01-05   HDFC     EQ     1171.90  1168.8  1175.00  1150.40  1154.95   \n",
              "3  2015-01-06   HDFC     EQ     1156.40  1148.6  1148.60  1096.10  1098.00   \n",
              "4  2015-01-07   HDFC     EQ     1101.95  1097.5  1114.15  1095.00  1097.65   \n",
              "\n",
              "     Close     VWAP   Volume      Turnover  Trades  Deliverable Volume  \\\n",
              "0  1124.00  1124.23   401576  4.514650e+13   11804              128793   \n",
              "1  1171.90  1159.93  2019816  2.342845e+14   59071             1258847   \n",
              "2  1156.40  1159.24  2219458  2.572880e+14   57749             1414720   \n",
              "3  1101.95  1117.84  2531748  2.830100e+14   81436             1547523   \n",
              "4  1099.25  1105.58  2406880  2.660992e+14  133109             1533304   \n",
              "\n",
              "   %Deliverble  \n",
              "0       0.3207  \n",
              "1       0.6232  \n",
              "2       0.6374  \n",
              "3       0.6112  \n",
              "4       0.6371  "
            ],
            "text/html": [
              "\n",
              "  <div id=\"df-c42a7dbc-3ed6-430d-a718-7431d8e6fa35\">\n",
              "    <div class=\"colab-df-container\">\n",
              "      <div>\n",
              "<style scoped>\n",
              "    .dataframe tbody tr th:only-of-type {\n",
              "        vertical-align: middle;\n",
              "    }\n",
              "\n",
              "    .dataframe tbody tr th {\n",
              "        vertical-align: top;\n",
              "    }\n",
              "\n",
              "    .dataframe thead th {\n",
              "        text-align: right;\n",
              "    }\n",
              "</style>\n",
              "<table border=\"1\" class=\"dataframe\">\n",
              "  <thead>\n",
              "    <tr style=\"text-align: right;\">\n",
              "      <th></th>\n",
              "      <th>Date</th>\n",
              "      <th>Symbol</th>\n",
              "      <th>Series</th>\n",
              "      <th>Prev Close</th>\n",
              "      <th>Open</th>\n",
              "      <th>High</th>\n",
              "      <th>Low</th>\n",
              "      <th>Last</th>\n",
              "      <th>Close</th>\n",
              "      <th>VWAP</th>\n",
              "      <th>Volume</th>\n",
              "      <th>Turnover</th>\n",
              "      <th>Trades</th>\n",
              "      <th>Deliverable Volume</th>\n",
              "      <th>%Deliverble</th>\n",
              "    </tr>\n",
              "  </thead>\n",
              "  <tbody>\n",
              "    <tr>\n",
              "      <th>0</th>\n",
              "      <td>2015-01-01</td>\n",
              "      <td>HDFC</td>\n",
              "      <td>EQ</td>\n",
              "      <td>1135.90</td>\n",
              "      <td>1130.0</td>\n",
              "      <td>1131.15</td>\n",
              "      <td>1120.10</td>\n",
              "      <td>1125.90</td>\n",
              "      <td>1124.00</td>\n",
              "      <td>1124.23</td>\n",
              "      <td>401576</td>\n",
              "      <td>4.514650e+13</td>\n",
              "      <td>11804</td>\n",
              "      <td>128793</td>\n",
              "      <td>0.3207</td>\n",
              "    </tr>\n",
              "    <tr>\n",
              "      <th>1</th>\n",
              "      <td>2015-01-02</td>\n",
              "      <td>HDFC</td>\n",
              "      <td>EQ</td>\n",
              "      <td>1124.00</td>\n",
              "      <td>1127.3</td>\n",
              "      <td>1176.95</td>\n",
              "      <td>1125.35</td>\n",
              "      <td>1171.05</td>\n",
              "      <td>1171.90</td>\n",
              "      <td>1159.93</td>\n",
              "      <td>2019816</td>\n",
              "      <td>2.342845e+14</td>\n",
              "      <td>59071</td>\n",
              "      <td>1258847</td>\n",
              "      <td>0.6232</td>\n",
              "    </tr>\n",
              "    <tr>\n",
              "      <th>2</th>\n",
              "      <td>2015-01-05</td>\n",
              "      <td>HDFC</td>\n",
              "      <td>EQ</td>\n",
              "      <td>1171.90</td>\n",
              "      <td>1168.8</td>\n",
              "      <td>1175.00</td>\n",
              "      <td>1150.40</td>\n",
              "      <td>1154.95</td>\n",
              "      <td>1156.40</td>\n",
              "      <td>1159.24</td>\n",
              "      <td>2219458</td>\n",
              "      <td>2.572880e+14</td>\n",
              "      <td>57749</td>\n",
              "      <td>1414720</td>\n",
              "      <td>0.6374</td>\n",
              "    </tr>\n",
              "    <tr>\n",
              "      <th>3</th>\n",
              "      <td>2015-01-06</td>\n",
              "      <td>HDFC</td>\n",
              "      <td>EQ</td>\n",
              "      <td>1156.40</td>\n",
              "      <td>1148.6</td>\n",
              "      <td>1148.60</td>\n",
              "      <td>1096.10</td>\n",
              "      <td>1098.00</td>\n",
              "      <td>1101.95</td>\n",
              "      <td>1117.84</td>\n",
              "      <td>2531748</td>\n",
              "      <td>2.830100e+14</td>\n",
              "      <td>81436</td>\n",
              "      <td>1547523</td>\n",
              "      <td>0.6112</td>\n",
              "    </tr>\n",
              "    <tr>\n",
              "      <th>4</th>\n",
              "      <td>2015-01-07</td>\n",
              "      <td>HDFC</td>\n",
              "      <td>EQ</td>\n",
              "      <td>1101.95</td>\n",
              "      <td>1097.5</td>\n",
              "      <td>1114.15</td>\n",
              "      <td>1095.00</td>\n",
              "      <td>1097.65</td>\n",
              "      <td>1099.25</td>\n",
              "      <td>1105.58</td>\n",
              "      <td>2406880</td>\n",
              "      <td>2.660992e+14</td>\n",
              "      <td>133109</td>\n",
              "      <td>1533304</td>\n",
              "      <td>0.6371</td>\n",
              "    </tr>\n",
              "  </tbody>\n",
              "</table>\n",
              "</div>\n",
              "      <button class=\"colab-df-convert\" onclick=\"convertToInteractive('df-c42a7dbc-3ed6-430d-a718-7431d8e6fa35')\"\n",
              "              title=\"Convert this dataframe to an interactive table.\"\n",
              "              style=\"display:none;\">\n",
              "        \n",
              "  <svg xmlns=\"http://www.w3.org/2000/svg\" height=\"24px\"viewBox=\"0 0 24 24\"\n",
              "       width=\"24px\">\n",
              "    <path d=\"M0 0h24v24H0V0z\" fill=\"none\"/>\n",
              "    <path d=\"M18.56 5.44l.94 2.06.94-2.06 2.06-.94-2.06-.94-.94-2.06-.94 2.06-2.06.94zm-11 1L8.5 8.5l.94-2.06 2.06-.94-2.06-.94L8.5 2.5l-.94 2.06-2.06.94zm10 10l.94 2.06.94-2.06 2.06-.94-2.06-.94-.94-2.06-.94 2.06-2.06.94z\"/><path d=\"M17.41 7.96l-1.37-1.37c-.4-.4-.92-.59-1.43-.59-.52 0-1.04.2-1.43.59L10.3 9.45l-7.72 7.72c-.78.78-.78 2.05 0 2.83L4 21.41c.39.39.9.59 1.41.59.51 0 1.02-.2 1.41-.59l7.78-7.78 2.81-2.81c.8-.78.8-2.07 0-2.86zM5.41 20L4 18.59l7.72-7.72 1.47 1.35L5.41 20z\"/>\n",
              "  </svg>\n",
              "      </button>\n",
              "      \n",
              "  <style>\n",
              "    .colab-df-container {\n",
              "      display:flex;\n",
              "      flex-wrap:wrap;\n",
              "      gap: 12px;\n",
              "    }\n",
              "\n",
              "    .colab-df-convert {\n",
              "      background-color: #E8F0FE;\n",
              "      border: none;\n",
              "      border-radius: 50%;\n",
              "      cursor: pointer;\n",
              "      display: none;\n",
              "      fill: #1967D2;\n",
              "      height: 32px;\n",
              "      padding: 0 0 0 0;\n",
              "      width: 32px;\n",
              "    }\n",
              "\n",
              "    .colab-df-convert:hover {\n",
              "      background-color: #E2EBFA;\n",
              "      box-shadow: 0px 1px 2px rgba(60, 64, 67, 0.3), 0px 1px 3px 1px rgba(60, 64, 67, 0.15);\n",
              "      fill: #174EA6;\n",
              "    }\n",
              "\n",
              "    [theme=dark] .colab-df-convert {\n",
              "      background-color: #3B4455;\n",
              "      fill: #D2E3FC;\n",
              "    }\n",
              "\n",
              "    [theme=dark] .colab-df-convert:hover {\n",
              "      background-color: #434B5C;\n",
              "      box-shadow: 0px 1px 3px 1px rgba(0, 0, 0, 0.15);\n",
              "      filter: drop-shadow(0px 1px 2px rgba(0, 0, 0, 0.3));\n",
              "      fill: #FFFFFF;\n",
              "    }\n",
              "  </style>\n",
              "\n",
              "      <script>\n",
              "        const buttonEl =\n",
              "          document.querySelector('#df-c42a7dbc-3ed6-430d-a718-7431d8e6fa35 button.colab-df-convert');\n",
              "        buttonEl.style.display =\n",
              "          google.colab.kernel.accessAllowed ? 'block' : 'none';\n",
              "\n",
              "        async function convertToInteractive(key) {\n",
              "          const element = document.querySelector('#df-c42a7dbc-3ed6-430d-a718-7431d8e6fa35');\n",
              "          const dataTable =\n",
              "            await google.colab.kernel.invokeFunction('convertToInteractive',\n",
              "                                                     [key], {});\n",
              "          if (!dataTable) return;\n",
              "\n",
              "          const docLinkHtml = 'Like what you see? Visit the ' +\n",
              "            '<a target=\"_blank\" href=https://colab.research.google.com/notebooks/data_table.ipynb>data table notebook</a>'\n",
              "            + ' to learn more about interactive tables.';\n",
              "          element.innerHTML = '';\n",
              "          dataTable['output_type'] = 'display_data';\n",
              "          await google.colab.output.renderOutput(dataTable, element);\n",
              "          const docLink = document.createElement('div');\n",
              "          docLink.innerHTML = docLinkHtml;\n",
              "          element.appendChild(docLink);\n",
              "        }\n",
              "      </script>\n",
              "    </div>\n",
              "  </div>\n",
              "  "
            ]
          },
          "metadata": {},
          "execution_count": 14
        }
      ]
    },
    {
      "cell_type": "code",
      "source": [
        "df1 = df.reset_index()['Close']\n",
        "plt.plot(df1)"
      ],
      "metadata": {
        "colab": {
          "base_uri": "https://localhost:8080/",
          "height": 283
        },
        "id": "yxbN5uyUyGlz",
        "outputId": "c9d019bc-2912-4aeb-8a8c-5d0f31bc48d9"
      },
      "execution_count": 15,
      "outputs": [
        {
          "output_type": "execute_result",
          "data": {
            "text/plain": [
              "[<matplotlib.lines.Line2D at 0x7f86c4847790>]"
            ]
          },
          "metadata": {},
          "execution_count": 15
        },
        {
          "output_type": "display_data",
          "data": {
            "text/plain": [
              "<Figure size 432x288 with 1 Axes>"
            ],
            "image/png": "[encoded data removed]"
          },
          "metadata": {
            "needs_background": "light"
          }
        }
      ]
    },
    {
      "cell_type": "code",
      "source": [
        "df['Date'] = pd.to_datetime(df.Date,format='%Y-%m-%d')\n",
        "df.index = df['Date']\n",
        "\n",
        "data = df.sort_index(ascending=True, axis=0)\n",
        "new_data = pd.DataFrame(index=range(0,len(df)),columns=['Date', 'Close'])\n",
        "\n",
        "for i in range(0,len(data)):\n",
        "     new_data['Date'][i] = data['Date'][i]\n",
        "     new_data['Close'][i] = data['Close'][i]"
      ],
      "metadata": {
        "id": "8v8h5Rfmvi2w"
      },
      "execution_count": 16,
      "outputs": []
    },
    {
      "cell_type": "code",
      "source": [
        "train = new_data[:900]\n",
        "valid = new_data[900:]\n",
        "\n",
        "preds = []\n",
        "for i in range(0,valid.shape[0]):\n",
        "    a = train['Close'][len(train)-248+i:].sum() + sum(preds)\n",
        "    b = a/248\n",
        "    preds.append(b)\n",
        "\n",
        "rms=np.sqrt(np.mean(np.power((np.array(valid['Close'])-preds),2)))\n",
        "print('\\n RMSE value on validation set:')\n",
        "print(rms)"
      ],
      "metadata": {
        "colab": {
          "base_uri": "https://localhost:8080/"
        },
        "id": "bYtVFm70vr0k",
        "outputId": "d26bae7f-90a7-4356-dd42-790dbca9a098"
      },
      "execution_count": 18,
      "outputs": [
        {
          "output_type": "stream",
          "name": "stdout",
          "text": [
            "\n",
            " RMSE value on validation set:\n",
            "187.00795055430112\n"
          ]
        }
      ]
    },
    {
      "cell_type": "code",
      "source": [
        "valid['Predictions'] = 0\n",
        "valid['Predictions'] = preds\n",
        "plt.plot(train['Close'])\n",
        "plt.plot(valid[['Close', 'Predictions']])"
      ],
      "metadata": {
        "colab": {
          "base_uri": "https://localhost:8080/",
          "height": 515
        },
        "id": "flAuIO3fxxLm",
        "outputId": "eb2e7dda-fc8f-4efe-c0b5-333155b638b8"
      },
      "execution_count": 24,
      "outputs": [
        {
          "output_type": "stream",
          "name": "stderr",
          "text": [
            "/usr/local/lib/python3.7/dist-packages/ipykernel_launcher.py:1: SettingWithCopyWarning: \n",
            "A value is trying to be set on a copy of a slice from a DataFrame.\n",
            "Try using .loc[row_indexer,col_indexer] = value instead\n",
            "\n",
            "See the caveats in the documentation: https://pandas.pydata.org/pandas-docs/stable/user_guide/indexing.html#returning-a-view-versus-a-copy\n",
            "  \"\"\"Entry point for launching an IPython kernel.\n",
            "/usr/local/lib/python3.7/dist-packages/ipykernel_launcher.py:2: SettingWithCopyWarning: \n",
            "A value is trying to be set on a copy of a slice from a DataFrame.\n",
            "Try using .loc[row_indexer,col_indexer] = value instead\n",
            "\n",
            "See the caveats in the documentation: https://pandas.pydata.org/pandas-docs/stable/user_guide/indexing.html#returning-a-view-versus-a-copy\n",
            "  \n"
          ]
        },
        {
          "output_type": "execute_result",
          "data": {
            "text/plain": [
              "[<matplotlib.lines.Line2D at 0x7f86b699e710>,\n",
              " <matplotlib.lines.Line2D at 0x7f86b699e950>]"
            ]
          },
          "metadata": {},
          "execution_count": 24
        },
        {
          "output_type": "display_data",
          "data": {
            "text/plain": [
              "<Figure size 432x288 with 1 Axes>"
            ],
            "image/png": "[encoded data removed]"
          },
          "metadata": {
            "needs_background": "light"
          }
        }
      ]
    }
  ]
}